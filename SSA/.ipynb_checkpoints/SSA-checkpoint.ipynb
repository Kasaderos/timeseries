{
 "cells": [
  {
   "cell_type": "code",
   "execution_count": 270,
   "metadata": {
    "colab": {},
    "colab_type": "code",
    "id": "RmcSW1LlMEmW"
   },
   "outputs": [],
   "source": [
    "import numpy as np\n",
    "import pandas as pd"
   ]
  },
  {
   "cell_type": "code",
   "execution_count": 285,
   "metadata": {
    "colab": {},
    "colab_type": "code",
    "id": "aF7Sl1t-Mi2t"
   },
   "outputs": [],
   "source": [
    "data = pd.read_csv('USDKZT_200215_200315h.csv', sep=',')\n",
    "data['<DATE>'] = pd.to_datetime(data['<DATE>'] + ' ' + data['<TIME>'])\n",
    "p = 10 \n",
    "data2 = data.drop([i for i in range(len(data)-p, len(data))]) \n",
    "N = len(data2['<DATE>'])\n",
    "tau = int((N + 1) / 2)\n",
    "xt = data2['<CLOSE>'] # ряд для построения модели"
   ]
  },
  {
   "cell_type": "code",
   "execution_count": 286,
   "metadata": {
    "colab": {
     "base_uri": "https://localhost:8080/",
     "height": 139
    },
    "colab_type": "code",
    "executionInfo": {
     "elapsed": 736,
     "status": "ok",
     "timestamp": 1583859649514,
     "user": {
      "displayName": "B Kaldarov",
      "photoUrl": "",
      "userId": "02508360002721172018"
     },
     "user_tz": -360
    },
    "id": "dRhpvaQnPMuu",
    "outputId": "40cc5475-7946-4bca-9697-4d490fc9b445"
   },
   "outputs": [
    {
     "data": {
      "text/plain": [
       "array([[376.46, 376.46, 376.46, ..., 378.56, 378.56, 378.56],\n",
       "       [376.46, 376.46, 376.46, ..., 378.56, 378.56, 378.56],\n",
       "       [376.46, 376.46, 376.46, ..., 378.56, 378.56, 378.56],\n",
       "       ...,\n",
       "       [378.56, 378.56, 378.56, ..., 400.47, 399.97, 399.97],\n",
       "       [378.56, 378.56, 378.56, ..., 399.97, 399.97, 399.97],\n",
       "       [378.56, 378.56, 378.56, ..., 399.97, 399.97, 399.97]])"
      ]
     },
     "execution_count": 286,
     "metadata": {},
     "output_type": "execute_result"
    }
   ],
   "source": [
    "X = np.array([xt[i:(i+tau)] for i in range(N-tau+1)])\n",
    "n = len(X[0])\n",
    "X"
   ]
  },
  {
   "cell_type": "code",
   "execution_count": 287,
   "metadata": {
    "colab": {
     "base_uri": "https://localhost:8080/",
     "height": 243
    },
    "colab_type": "code",
    "executionInfo": {
     "elapsed": 783,
     "status": "ok",
     "timestamp": 1583859651665,
     "user": {
      "displayName": "B Kaldarov",
      "photoUrl": "",
      "userId": "02508360002721172018"
     },
     "user_tz": -360
    },
    "id": "ekEORRG5Ridv",
    "outputId": "8ff9a654-aefa-4bf9-f2fd-0836442d0291"
   },
   "outputs": [],
   "source": [
    "C = 1 / n * X.transpose().dot(X)\n"
   ]
  },
  {
   "cell_type": "code",
   "execution_count": 288,
   "metadata": {
    "colab": {
     "base_uri": "https://localhost:8080/",
     "height": 1000
    },
    "colab_type": "code",
    "executionInfo": {
     "elapsed": 2038,
     "status": "ok",
     "timestamp": 1583861474909,
     "user": {
      "displayName": "B Kaldarov",
      "photoUrl": "",
      "userId": "02508360002721172018"
     },
     "user_tz": -360
    },
    "id": "4wpAS6iISis5",
    "outputId": "a9cb7e8a-fd03-4486-a00c-a4f0e79052ce"
   },
   "outputs": [],
   "source": [
    "w, V = np.linalg.eig(C)\n",
    "W = np.diag(w)"
   ]
  },
  {
   "cell_type": "code",
   "execution_count": 289,
   "metadata": {
    "colab": {
     "base_uri": "https://localhost:8080/",
     "height": 243
    },
    "colab_type": "code",
    "executionInfo": {
     "elapsed": 738,
     "status": "ok",
     "timestamp": 1583859661803,
     "user": {
      "displayName": "B Kaldarov",
      "photoUrl": "",
      "userId": "02508360002721172018"
     },
     "user_tz": -360
    },
    "id": "KRd_4vUOVyZg",
    "outputId": "ed687523-64b8-4a86-9f06-9bfdd25c2f94"
   },
   "outputs": [],
   "source": [
    "#V.transpose().dot(C).dot(Vtau) # =W\n",
    "#np.abs(np.linalg.det(C) - np.prod(w)) < 1e-3"
   ]
  },
  {
   "cell_type": "code",
   "execution_count": 290,
   "metadata": {
    "colab": {
     "base_uri": "https://localhost:8080/",
     "height": 243
    },
    "colab_type": "code",
    "executionInfo": {
     "elapsed": 703,
     "status": "ok",
     "timestamp": 1583859677704,
     "user": {
      "displayName": "B Kaldarov",
      "photoUrl": "",
      "userId": "02508360002721172018"
     },
     "user_tz": -360
    },
    "id": "O7xZxwLFXG_y",
    "outputId": "cbe4dcba-8e4f-4b74-850d-00b8e6f1149a"
   },
   "outputs": [],
   "source": [
    "Y = V.transpose().dot(X)"
   ]
  },
  {
   "cell_type": "code",
   "execution_count": 291,
   "metadata": {
    "colab": {
     "base_uri": "https://localhost:8080/",
     "height": 243
    },
    "colab_type": "code",
    "executionInfo": {
     "elapsed": 704,
     "status": "ok",
     "timestamp": 1583861858608,
     "user": {
      "displayName": "B Kaldarov",
      "photoUrl": "",
      "userId": "02508360002721172018"
     },
     "user_tz": -360
    },
    "id": "RLkYUh29Zjf8",
    "outputId": "3c166af7-7058-4359-856f-bf46f2df3a44"
   },
   "outputs": [],
   "source": [
    "r = int(tau * 2 / 3)\n",
    "Vr = V[:r]\n",
    "Temp = Y.transpose()[:r]\n",
    "Yr = Temp.transpose()"
   ]
  },
  {
   "cell_type": "code",
   "execution_count": 292,
   "metadata": {
    "colab": {},
    "colab_type": "code",
    "id": "MriaMQqcbfeS"
   },
   "outputs": [],
   "source": [
    "def S(P, V, r):\n",
    "    return np.array([np.sum(P[i] * V[i]) for i in range(r)])\n",
    "\n",
    "def findQ(xt, tau, N):\n",
    "    return np.array([xt[i] for i in range(N-tau+1, N)]) \n",
    "\n",
    "def findNext(Vtau, Vstar, Q):\n",
    "    return Vtau.dot(Vstar.transpose().dot(Q)) / (1 - Vtau.dot(Vtau.transpose()))"
   ]
  },
  {
   "cell_type": "code",
   "execution_count": 293,
   "metadata": {},
   "outputs": [],
   "source": [
    "Q = findQ(xt, tau, N)\n",
    "Vstar = np.array([V[i][:r] for i in range(tau-1)])\n",
    "Vtau = np.array([V[len(V)-1][i] for i in range(r)])"
   ]
  },
  {
   "cell_type": "code",
   "execution_count": 294,
   "metadata": {},
   "outputs": [
    {
     "name": "stdout",
     "output_type": "stream",
     "text": [
      "90 135 135\n"
     ]
    }
   ],
   "source": [
    "#Vtau 912x608    -> VtauT 608x912   *   Q 912 -> M 912 \n",
    "print(len(Vtau), len(Vstar), len(Q))"
   ]
  },
  {
   "cell_type": "code",
   "execution_count": 295,
   "metadata": {},
   "outputs": [],
   "source": [
    "# cycle\n",
    "NewN = N\n",
    "NewXt = [x for x in xt]\n",
    "for i in range(p):\n",
    "    Q = findQ(NewXt, tau, NewN)\n",
    "    x_next = findNext(Vtau, Vstar, Q)\n",
    "    NewXt.append(x_next)\n",
    "    NewN += 1 \n",
    "    "
   ]
  },
  {
   "cell_type": "code",
   "execution_count": 296,
   "metadata": {},
   "outputs": [],
   "source": [
    "import matplotlib.pyplot as plt"
   ]
  },
  {
   "cell_type": "code",
   "execution_count": 297,
   "metadata": {},
   "outputs": [
    {
     "data": {
      "text/html": [
       "<div>\n",
       "<style scoped>\n",
       "    .dataframe tbody tr th:only-of-type {\n",
       "        vertical-align: middle;\n",
       "    }\n",
       "\n",
       "    .dataframe tbody tr th {\n",
       "        vertical-align: top;\n",
       "    }\n",
       "\n",
       "    .dataframe thead th {\n",
       "        text-align: right;\n",
       "    }\n",
       "</style>\n",
       "<table border=\"1\" class=\"dataframe\">\n",
       "  <thead>\n",
       "    <tr style=\"text-align: right;\">\n",
       "      <th></th>\n",
       "      <th>&lt;TICKER&gt;</th>\n",
       "      <th>&lt;PER&gt;</th>\n",
       "      <th>&lt;DATE&gt;</th>\n",
       "      <th>&lt;TIME&gt;</th>\n",
       "      <th>&lt;OPEN&gt;</th>\n",
       "      <th>&lt;HIGH&gt;</th>\n",
       "      <th>&lt;LOW&gt;</th>\n",
       "      <th>&lt;CLOSE&gt;</th>\n",
       "      <th>&lt;VOL&gt;</th>\n",
       "    </tr>\n",
       "  </thead>\n",
       "  <tbody>\n",
       "    <tr>\n",
       "      <th>261</th>\n",
       "      <td>USDKZT</td>\n",
       "      <td>60</td>\n",
       "      <td>2020-03-12 06:00:00</td>\n",
       "      <td>06:00:00</td>\n",
       "      <td>395.47</td>\n",
       "      <td>395.97</td>\n",
       "      <td>395.47</td>\n",
       "      <td>395.97</td>\n",
       "      <td>3</td>\n",
       "    </tr>\n",
       "    <tr>\n",
       "      <th>262</th>\n",
       "      <td>USDKZT</td>\n",
       "      <td>60</td>\n",
       "      <td>2020-03-12 07:00:00</td>\n",
       "      <td>07:00:00</td>\n",
       "      <td>395.47</td>\n",
       "      <td>395.97</td>\n",
       "      <td>395.47</td>\n",
       "      <td>395.97</td>\n",
       "      <td>6</td>\n",
       "    </tr>\n",
       "    <tr>\n",
       "      <th>263</th>\n",
       "      <td>USDKZT</td>\n",
       "      <td>60</td>\n",
       "      <td>2020-03-12 08:00:00</td>\n",
       "      <td>08:00:00</td>\n",
       "      <td>397.97</td>\n",
       "      <td>398.97</td>\n",
       "      <td>397.47</td>\n",
       "      <td>398.97</td>\n",
       "      <td>4</td>\n",
       "    </tr>\n",
       "    <tr>\n",
       "      <th>264</th>\n",
       "      <td>USDKZT</td>\n",
       "      <td>60</td>\n",
       "      <td>2020-03-12 10:00:00</td>\n",
       "      <td>10:00:00</td>\n",
       "      <td>399.47</td>\n",
       "      <td>399.47</td>\n",
       "      <td>398.47</td>\n",
       "      <td>398.97</td>\n",
       "      <td>5</td>\n",
       "    </tr>\n",
       "    <tr>\n",
       "      <th>265</th>\n",
       "      <td>USDKZT</td>\n",
       "      <td>60</td>\n",
       "      <td>2020-03-12 12:00:00</td>\n",
       "      <td>12:00:00</td>\n",
       "      <td>399.47</td>\n",
       "      <td>399.47</td>\n",
       "      <td>399.47</td>\n",
       "      <td>399.47</td>\n",
       "      <td>1</td>\n",
       "    </tr>\n",
       "    <tr>\n",
       "      <th>266</th>\n",
       "      <td>USDKZT</td>\n",
       "      <td>60</td>\n",
       "      <td>2020-03-12 13:00:00</td>\n",
       "      <td>13:00:00</td>\n",
       "      <td>399.97</td>\n",
       "      <td>400.47</td>\n",
       "      <td>398.97</td>\n",
       "      <td>400.47</td>\n",
       "      <td>8</td>\n",
       "    </tr>\n",
       "    <tr>\n",
       "      <th>267</th>\n",
       "      <td>USDKZT</td>\n",
       "      <td>60</td>\n",
       "      <td>2020-03-12 14:00:00</td>\n",
       "      <td>14:00:00</td>\n",
       "      <td>400.47</td>\n",
       "      <td>400.47</td>\n",
       "      <td>399.47</td>\n",
       "      <td>399.97</td>\n",
       "      <td>23</td>\n",
       "    </tr>\n",
       "    <tr>\n",
       "      <th>268</th>\n",
       "      <td>USDKZT</td>\n",
       "      <td>60</td>\n",
       "      <td>2020-03-12 15:00:00</td>\n",
       "      <td>15:00:00</td>\n",
       "      <td>399.98</td>\n",
       "      <td>399.98</td>\n",
       "      <td>399.97</td>\n",
       "      <td>399.97</td>\n",
       "      <td>2</td>\n",
       "    </tr>\n",
       "    <tr>\n",
       "      <th>269</th>\n",
       "      <td>USDKZT</td>\n",
       "      <td>60</td>\n",
       "      <td>2020-03-12 17:00:00</td>\n",
       "      <td>17:00:00</td>\n",
       "      <td>399.97</td>\n",
       "      <td>399.97</td>\n",
       "      <td>399.97</td>\n",
       "      <td>399.97</td>\n",
       "      <td>3</td>\n",
       "    </tr>\n",
       "    <tr>\n",
       "      <th>270</th>\n",
       "      <td>USDKZT</td>\n",
       "      <td>60</td>\n",
       "      <td>2020-03-13 00:00:00</td>\n",
       "      <td>00:00:00</td>\n",
       "      <td>399.97</td>\n",
       "      <td>399.97</td>\n",
       "      <td>399.97</td>\n",
       "      <td>399.97</td>\n",
       "      <td>1</td>\n",
       "    </tr>\n",
       "    <tr>\n",
       "      <th>271</th>\n",
       "      <td>USDKZT</td>\n",
       "      <td>60</td>\n",
       "      <td>2020-03-13 06:00:00</td>\n",
       "      <td>06:00:00</td>\n",
       "      <td>399.97</td>\n",
       "      <td>399.97</td>\n",
       "      <td>399.97</td>\n",
       "      <td>399.97</td>\n",
       "      <td>2</td>\n",
       "    </tr>\n",
       "    <tr>\n",
       "      <th>272</th>\n",
       "      <td>USDKZT</td>\n",
       "      <td>60</td>\n",
       "      <td>2020-03-13 08:00:00</td>\n",
       "      <td>08:00:00</td>\n",
       "      <td>401.97</td>\n",
       "      <td>404.97</td>\n",
       "      <td>401.97</td>\n",
       "      <td>404.97</td>\n",
       "      <td>7</td>\n",
       "    </tr>\n",
       "    <tr>\n",
       "      <th>273</th>\n",
       "      <td>USDKZT</td>\n",
       "      <td>60</td>\n",
       "      <td>2020-03-13 10:00:00</td>\n",
       "      <td>10:00:00</td>\n",
       "      <td>405.66</td>\n",
       "      <td>405.77</td>\n",
       "      <td>404.97</td>\n",
       "      <td>405.77</td>\n",
       "      <td>7</td>\n",
       "    </tr>\n",
       "    <tr>\n",
       "      <th>274</th>\n",
       "      <td>USDKZT</td>\n",
       "      <td>60</td>\n",
       "      <td>2020-03-13 11:00:00</td>\n",
       "      <td>11:00:00</td>\n",
       "      <td>405.37</td>\n",
       "      <td>405.37</td>\n",
       "      <td>405.37</td>\n",
       "      <td>405.37</td>\n",
       "      <td>1</td>\n",
       "    </tr>\n",
       "    <tr>\n",
       "      <th>275</th>\n",
       "      <td>USDKZT</td>\n",
       "      <td>60</td>\n",
       "      <td>2020-03-13 13:00:00</td>\n",
       "      <td>13:00:00</td>\n",
       "      <td>405.67</td>\n",
       "      <td>405.67</td>\n",
       "      <td>405.67</td>\n",
       "      <td>405.67</td>\n",
       "      <td>1</td>\n",
       "    </tr>\n",
       "    <tr>\n",
       "      <th>276</th>\n",
       "      <td>USDKZT</td>\n",
       "      <td>60</td>\n",
       "      <td>2020-03-13 15:00:00</td>\n",
       "      <td>15:00:00</td>\n",
       "      <td>405.68</td>\n",
       "      <td>405.68</td>\n",
       "      <td>405.67</td>\n",
       "      <td>405.67</td>\n",
       "      <td>4</td>\n",
       "    </tr>\n",
       "    <tr>\n",
       "      <th>277</th>\n",
       "      <td>USDKZT</td>\n",
       "      <td>60</td>\n",
       "      <td>2020-03-13 16:00:00</td>\n",
       "      <td>16:00:00</td>\n",
       "      <td>405.67</td>\n",
       "      <td>405.67</td>\n",
       "      <td>405.67</td>\n",
       "      <td>405.67</td>\n",
       "      <td>3</td>\n",
       "    </tr>\n",
       "    <tr>\n",
       "      <th>278</th>\n",
       "      <td>USDKZT</td>\n",
       "      <td>60</td>\n",
       "      <td>2020-03-13 18:00:00</td>\n",
       "      <td>18:00:00</td>\n",
       "      <td>405.67</td>\n",
       "      <td>405.67</td>\n",
       "      <td>405.67</td>\n",
       "      <td>405.67</td>\n",
       "      <td>1</td>\n",
       "    </tr>\n",
       "    <tr>\n",
       "      <th>279</th>\n",
       "      <td>USDKZT</td>\n",
       "      <td>60</td>\n",
       "      <td>2020-03-13 20:00:00</td>\n",
       "      <td>20:00:00</td>\n",
       "      <td>405.67</td>\n",
       "      <td>405.67</td>\n",
       "      <td>405.67</td>\n",
       "      <td>405.67</td>\n",
       "      <td>1</td>\n",
       "    </tr>\n",
       "    <tr>\n",
       "      <th>280</th>\n",
       "      <td>USDKZT</td>\n",
       "      <td>60</td>\n",
       "      <td>2020-03-13 22:00:00</td>\n",
       "      <td>22:00:00</td>\n",
       "      <td>405.67</td>\n",
       "      <td>405.67</td>\n",
       "      <td>405.67</td>\n",
       "      <td>405.67</td>\n",
       "      <td>1</td>\n",
       "    </tr>\n",
       "  </tbody>\n",
       "</table>\n",
       "</div>"
      ],
      "text/plain": [
       "    <TICKER>  <PER>              <DATE>    <TIME>  <OPEN>  <HIGH>   <LOW>  \\\n",
       "261   USDKZT     60 2020-03-12 06:00:00  06:00:00  395.47  395.97  395.47   \n",
       "262   USDKZT     60 2020-03-12 07:00:00  07:00:00  395.47  395.97  395.47   \n",
       "263   USDKZT     60 2020-03-12 08:00:00  08:00:00  397.97  398.97  397.47   \n",
       "264   USDKZT     60 2020-03-12 10:00:00  10:00:00  399.47  399.47  398.47   \n",
       "265   USDKZT     60 2020-03-12 12:00:00  12:00:00  399.47  399.47  399.47   \n",
       "266   USDKZT     60 2020-03-12 13:00:00  13:00:00  399.97  400.47  398.97   \n",
       "267   USDKZT     60 2020-03-12 14:00:00  14:00:00  400.47  400.47  399.47   \n",
       "268   USDKZT     60 2020-03-12 15:00:00  15:00:00  399.98  399.98  399.97   \n",
       "269   USDKZT     60 2020-03-12 17:00:00  17:00:00  399.97  399.97  399.97   \n",
       "270   USDKZT     60 2020-03-13 00:00:00  00:00:00  399.97  399.97  399.97   \n",
       "271   USDKZT     60 2020-03-13 06:00:00  06:00:00  399.97  399.97  399.97   \n",
       "272   USDKZT     60 2020-03-13 08:00:00  08:00:00  401.97  404.97  401.97   \n",
       "273   USDKZT     60 2020-03-13 10:00:00  10:00:00  405.66  405.77  404.97   \n",
       "274   USDKZT     60 2020-03-13 11:00:00  11:00:00  405.37  405.37  405.37   \n",
       "275   USDKZT     60 2020-03-13 13:00:00  13:00:00  405.67  405.67  405.67   \n",
       "276   USDKZT     60 2020-03-13 15:00:00  15:00:00  405.68  405.68  405.67   \n",
       "277   USDKZT     60 2020-03-13 16:00:00  16:00:00  405.67  405.67  405.67   \n",
       "278   USDKZT     60 2020-03-13 18:00:00  18:00:00  405.67  405.67  405.67   \n",
       "279   USDKZT     60 2020-03-13 20:00:00  20:00:00  405.67  405.67  405.67   \n",
       "280   USDKZT     60 2020-03-13 22:00:00  22:00:00  405.67  405.67  405.67   \n",
       "\n",
       "     <CLOSE>  <VOL>  \n",
       "261   395.97      3  \n",
       "262   395.97      6  \n",
       "263   398.97      4  \n",
       "264   398.97      5  \n",
       "265   399.47      1  \n",
       "266   400.47      8  \n",
       "267   399.97     23  \n",
       "268   399.97      2  \n",
       "269   399.97      3  \n",
       "270   399.97      1  \n",
       "271   399.97      2  \n",
       "272   404.97      7  \n",
       "273   405.77      7  \n",
       "274   405.37      1  \n",
       "275   405.67      1  \n",
       "276   405.67      4  \n",
       "277   405.67      3  \n",
       "278   405.67      1  \n",
       "279   405.67      1  \n",
       "280   405.67      1  "
      ]
     },
     "execution_count": 297,
     "metadata": {},
     "output_type": "execute_result"
    }
   ],
   "source": [
    "data.head() # 08/01/13\n",
    "data.tail(20) # 09/04/18\n",
    "# 08/26/18"
   ]
  },
  {
   "cell_type": "code",
   "execution_count": 298,
   "metadata": {},
   "outputs": [
    {
     "data": {
      "text/plain": [
       "[<matplotlib.lines.Line2D at 0x7fe15f197fd0>]"
      ]
     },
     "execution_count": 298,
     "metadata": {},
     "output_type": "execute_result"
    },
    {
     "data": {
      "image/png": "[encoded data removed]",
      "text/plain": [
       "<Figure size 1280x720 with 2 Axes>"
      ]
     },
     "metadata": {
      "needs_background": "light"
     },
     "output_type": "display_data"
    }
   ],
   "source": [
    "\n",
    "fig, ax1 = plt.subplots(1,1,figsize=(16,9), dpi= 80)\n",
    "ax1.plot(data['<DATE>'], data['<CLOSE>'], color='tab:red')\n",
    "\n",
    "# Plot Line2 (Right Y Axis)\n",
    "ax2 = ax1.twinx()  # instantiate a second axes that shares the same x-axis\n",
    "ax2.plot(data['<DATE>'], NewXt, color='tab:blue')\n"
   ]
  },
  {
   "cell_type": "code",
   "execution_count": null,
   "metadata": {},
   "outputs": [],
   "source": []
  },
  {
   "cell_type": "code",
   "execution_count": null,
   "metadata": {},
   "outputs": [],
   "source": []
  },
  {
   "cell_type": "code",
   "execution_count": null,
   "metadata": {},
   "outputs": [],
   "source": []
  }
 ],
 "metadata": {
  "colab": {
   "authorship_tag": "ABX9TyOVhL8g/F4QkwLKRXwJ8p4A",
   "collapsed_sections": [],
   "name": "Task3_SSL.ipynb",
   "provenance": [],
   "toc_visible": true
  },
  "kernelspec": {
   "display_name": "Python 3",
   "language": "python",
   "name": "python3"
  },
  "language_info": {
   "codemirror_mode": {
    "name": "ipython",
    "version": 3
   },
   "file_extension": ".py",
   "mimetype": "text/x-python",
   "name": "python",
   "nbconvert_exporter": "python",
   "pygments_lexer": "ipython3",
   "version": "3.5.2"
  }
 },
 "nbformat": 4,
 "nbformat_minor": 1
}
