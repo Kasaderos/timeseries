{
 "cells": [
  {
   "cell_type": "code",
   "execution_count": 33,
   "metadata": {},
   "outputs": [],
   "source": [
    "from math import *"
   ]
  },
  {
   "cell_type": "code",
   "execution_count": 141,
   "metadata": {},
   "outputs": [],
   "source": [
    "x1, y1 = 1.0, 0.0\n",
    "x2, y2 = 0.0, 1.0\n",
    "x3, y3 = -1.0, 0.0"
   ]
  },
  {
   "cell_type": "code",
   "execution_count": 142,
   "metadata": {},
   "outputs": [],
   "source": [
    "def ellipse(x1, y1, x2, y2):\n",
    "    b = sqrt((x1*x1*y2*y2-x2*x2*y1*y1)/ (1e-9 if abs(x1*x1-x2*x2) < 1e-9 else abs(x1*x1-x2*x2)) )\n",
    "    a = sqrt(b*b*x1*x1/(b*b-y1*y1) / (1e-9 if abs(b*b-y1*y1) < 1e-9 else abs(b*b-y1*y1)) )\n",
    "    return a, b"
   ]
  },
  {
   "cell_type": "code",
   "execution_count": 143,
   "metadata": {},
   "outputs": [],
   "source": [
    "def parabola(x1, y1):\n",
    "    p = y1*y1/ (1e-9 if (2*x1) < 1e-9 else 2*x1)\n",
    "    return p"
   ]
  },
  {
   "cell_type": "code",
   "execution_count": 144,
   "metadata": {},
   "outputs": [],
   "source": [
    "def giperbola(x1, y1, x2, y2):\n",
    "    b = sqrt((x1*x1*y2*y2-x2*x2*y1*y1)/ (1e-9 if abs(x1*x1+x2*x2) < 1e-9 else abs(x1*x1+x2*x2)) )\n",
    "    a = sqrt(b*b*x1*x1/(b*b-y1*y1) / (1e-9 if abs(b*b+y1*y1) < 1e-9 else abs(b*b+y1*y1)) )\n",
    "    return a, b"
   ]
  },
  {
   "cell_type": "code",
   "execution_count": 145,
   "metadata": {},
   "outputs": [
    {
     "data": {
      "text/plain": [
       "(1.0, 1.0)"
      ]
     },
     "execution_count": 145,
     "metadata": {},
     "output_type": "execute_result"
    }
   ],
   "source": [
    "a, b = ellipse(x1, y1, x2, y2)\n",
    "a, b"
   ]
  },
  {
   "cell_type": "code",
   "execution_count": 146,
   "metadata": {},
   "outputs": [],
   "source": [
    "import matplotlib.pyplot as plt\n",
    "import numpy as np"
   ]
  },
  {
   "cell_type": "code",
   "execution_count": 147,
   "metadata": {},
   "outputs": [],
   "source": [
    "x = a * np.cos(np.arange(0, 2*np.pi, 0.1))\n",
    "y = b * np.sin(np.arange(0, 2*np.pi, 0.1))\n",
    "# plt.scatter(x1, y1, s = 20, color=\"red\")\n",
    "# plt.scatter(x2, y2, s = 20, color=\"red\")\n",
    "# plt.scatter(x3, y3, s = 20, color=\"red\")\n",
    "# plt.plot(x, y)"
   ]
  }
 ],
 "metadata": {
  "kernelspec": {
   "display_name": "Python 3",
   "language": "python",
   "name": "python3"
  },
  "language_info": {
   "codemirror_mode": {
    "name": "ipython",
    "version": 3
   },
   "file_extension": ".py",
   "mimetype": "text/x-python",
   "name": "python",
   "nbconvert_exporter": "python",
   "pygments_lexer": "ipython3",
   "version": "3.5.2"
  }
 },
 "nbformat": 4,
 "nbformat_minor": 4
}
