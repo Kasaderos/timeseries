{
 "cells": [
  {
   "cell_type": "code",
   "execution_count": 1,
   "metadata": {},
   "outputs": [],
   "source": [
    "import numpy as np"
   ]
  },
  {
   "cell_type": "code",
   "execution_count": 2,
   "metadata": {},
   "outputs": [],
   "source": [
    "def Theta(z):\n",
    "\treturn 0 if z < 0 else 1\n",
    "\n",
    "def d(k, l, N, x):\n",
    "\treturn np.log(C(k, l, N, x))/np.log(l)\n",
    "\n",
    "def C(k, l, N, x):\n",
    "\ts = 0\n",
    "\tn0 = N - k\n",
    "\tL = np.array([[Theta(l-p(k, i, j, x)) for j in range(n0, N)] for i in range(n0, N)])\n",
    "\treturn (1 / N**2) * np.sum(L)\n",
    "\n",
    "def p(k, n1, n2, x):\n",
    "\tw_n1 = x[n1-k:n1]\n",
    "\tw_n2 = x[n2-k:n2]\n",
    "\tS = np.array([(w_n1[i]-w_n2[i])**2 for i in range(k)])\n",
    "\treturn np.sqrt(np.sum(S))\n",
    "\n",
    "def get_xy(a, b, dt, N):\n",
    "\tTs = [i * dt for i in range(N)]\n",
    "\tx = np.array([a * np.cos(t) for t in Ts])\n",
    "\ty = np.array([a * np.sin(t) for t in Ts])\n",
    "\treturn x, y"
   ]
  },
  {
   "cell_type": "code",
   "execution_count": 3,
   "metadata": {},
   "outputs": [
    {
     "name": "stdout",
     "output_type": "stream",
     "text": [
      "2.566323334778673\n",
      "2.5076262484267793\n",
      "2.4659800028906793\n",
      "2.433676665221327\n",
      "2.4072829165387852\n",
      "2.3849673199952477\n",
      "2.3656366710026857\n",
      "2.3485858301868916\n"
     ]
    }
   ],
   "source": [
    "a = 4\n",
    "b = 2\n",
    "dt = 1e-3\n",
    "N = 10000\n",
    "l = 1e-3\n",
    "x, y = get_xy(a, b, dt, N)\n",
    "for k in range(2, 10):\n",
    "\tdim = d(k, l, N, x)\n",
    "\tprint(dim)"
   ]
  },
  {
   "cell_type": "code",
   "execution_count": null,
   "metadata": {},
   "outputs": [],
   "source": []
  }
 ],
 "metadata": {
  "kernelspec": {
   "display_name": "Python 3",
   "language": "python",
   "name": "python3"
  },
  "language_info": {
   "codemirror_mode": {
    "name": "ipython",
    "version": 3
   },
   "file_extension": ".py",
   "mimetype": "text/x-python",
   "name": "python",
   "nbconvert_exporter": "python",
   "pygments_lexer": "ipython3",
   "version": "3.5.2"
  }
 },
 "nbformat": 4,
 "nbformat_minor": 4
}
